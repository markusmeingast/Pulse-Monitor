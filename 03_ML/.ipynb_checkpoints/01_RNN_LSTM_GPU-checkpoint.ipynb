{
 "cells": [
  {
   "cell_type": "markdown",
   "metadata": {},
   "source": [
    "Loading packages"
   ]
  },
  {
   "cell_type": "code",
   "execution_count": 2,
   "metadata": {},
   "outputs": [],
   "source": [
    "import pandas as pd\n",
    "#import tensorflow as tf\n",
    "import numpy as np\n",
    "import matplotlib.pyplot as mp\n",
    "from IPython import display\n",
    "import time"
   ]
  },
  {
   "cell_type": "markdown",
   "metadata": {},
   "source": [
    "Reading in training and testing data"
   ]
  },
  {
   "cell_type": "code",
   "execution_count": 14,
   "metadata": {},
   "outputs": [],
   "source": [
    "X_train = pd.read_csv('X_train.csv',header=None).values\n",
    "Y_train = pd.read_csv('Y_train.csv',header=None).values\n",
    "\n",
    "X_test = pd.read_csv('X_test.csv',header=None).values\n",
    "Y_test = pd.read_csv('Y_test.csv',header=None).values\n",
    "\n",
    "X_train = X_train[np.newaxis].T\n",
    "Y_train = Y_train.T\n",
    "\n",
    "X_test = X_test[np.newaxis].T\n",
    "Y_test = Y_test.T"
   ]
  },
  {
   "cell_type": "markdown",
   "metadata": {},
   "source": [
    "Get/set parameters"
   ]
  },
  {
   "cell_type": "code",
   "execution_count": 18,
   "metadata": {},
   "outputs": [],
   "source": [
    "n_in = X_train.shape[1]\n",
    "n_out = Y_train.shape[1]\n",
    "batch_size = X_train.shape[0]\n",
    "H = 5\n",
    "LSTM = \"CudnnLSTM\"\n",
    "n_layers = 4\n",
    "regularizer_rate = 0.0\n",
    "learning_rate = 1e-2\n",
    "epochs = 5000\n",
    "target_loss = 7e-3"
   ]
  },
  {
   "cell_type": "markdown",
   "metadata": {},
   "source": [
    "## Set up tensorflow graph"
   ]
  },
  {
   "cell_type": "code",
   "execution_count": null,
   "metadata": {},
   "outputs": [],
   "source": [
    "with tf.device(\"/device:GPU:0\"):\n",
    "    x = tf.placeholder(tf.float32, [None, n_in, 1])\n",
    "    y = tf.placeholder(tf.float32, [None, n_out])\n",
    "    mask = tf.placeholder(tf.float32, [None, n_out])\n",
    "    \n",
    "    inputs = tf.transpose(x, [1, 0, 2])\n",
    "    \n",
    "    weights = {\n",
    "        'w1': tf.Variable(tf.random_normal([H, n_out],stddev=0.1,dtype=tf.float32))\n",
    "    }\n",
    "\n",
    "    biases = {\n",
    "        'b1': tf.Variable(tf.random_normal([n_out],stddev=0.1,dtype=tf.float32))\n",
    "    }\n",
    "    \n",
    "    if LSTM == \"LSTMCell\":\n",
    "        ### CPU/GPU based LSTM Cell to layer\n",
    "        lstm_cells = [tf.contrib.rnn.LSTMCell(H, forget_bias=1.0) for _ in range(n_layers)]\n",
    "        stacked_lstm = tf.contrib.rnn.MultiRNNCell(lstm_cells)\n",
    "        outputs, states = tf.nn.dynamic_rnn(stacked_lstm, inputs=inputs, dtype=tf.float32, time_major=True)\n",
    "        \n",
    "    elif LSTM == \"CudnnLSTM\":\n",
    "        ### CUDA optimized LSTM layer\n",
    "        lstm = tf.contrib.cudnn_rnn.CudnnLSTM(\n",
    "              num_layers=n_layers,\n",
    "              num_units=H,\n",
    "              direction='unidirectional',\n",
    "              dtype=tf.float32)\n",
    "        lstm.build(inputs.get_shape())\n",
    "        outputs, output_states = lstm(inputs, training=True)\n",
    "    \n",
    "    pred = tf.nn.bias_add(tf.matmul(outputs[-1], weights['w1']), biases['b1'])\n",
    "    pred = pred*mask\n",
    "    \n",
    "    individual_losses = tf.reduce_sum(tf.squared_difference(pred, y), reduction_indices=1)\n",
    "    loss_op = tf.reduce_mean(individual_losses) + regularizer_rate*(tf.nn.l2_loss(weights[\"w1\"]))\n",
    "    optimizer = tf.train.AdamOptimizer(learning_rate=learning_rate).minimize(loss_op)\n",
    "\n",
    "    init = tf.global_variables_initializer()"
   ]
  },
  {
   "cell_type": "markdown",
   "metadata": {},
   "source": [
    "## Start interactive Tensorflow session"
   ]
  },
  {
   "cell_type": "code",
   "execution_count": null,
   "metadata": {},
   "outputs": [],
   "source": [
    "sess = tf.InteractiveSession(config=tf.ConfigProto(log_device_placement=True))"
   ]
  },
  {
   "cell_type": "markdown",
   "metadata": {},
   "source": [
    "## Run Tensorflow training loop"
   ]
  },
  {
   "cell_type": "code",
   "execution_count": null,
   "metadata": {},
   "outputs": [],
   "source": [
    "sess.run(init)\n",
    "\n",
    "start = time.time()\n",
    "\n",
    "c_train_0 = sess.run(loss_op, feed_dict={x: X_train, y: Y_train, mask: np.where(Y_train == 0.0,0.0,1.0)})\n",
    "c_test_0  = sess.run(loss_op, feed_dict={x: X_test,  y: Y_test,  mask: np.where(Y_test == 0.0,0.0,1.0)})\n",
    "\n",
    "res_train = [1.0]\n",
    "res_test = [1.0]\n",
    "\n",
    "epoch = 0\n",
    "c_train = c_train_0\n",
    "\n",
    "#train_size = 128\n",
    "#batches = int(batch_size/train_size)\n",
    "\n",
    "while epoch < epochs and c_train/c_train_0 > target_loss:\n",
    "    epoch = epoch+1\n",
    "    \n",
    "    #for i in range(batches):\n",
    "    #    start_idx = i*train_size\n",
    "    #    end_idx = (i+1)*train_size\n",
    "    #    X_batch = X_train[start_idx:end_idx,:,:]\n",
    "    #    Y_batch = Y_train[start_idx:end_idx,:]\n",
    "    #    _ = sess.run(optimizer, feed_dict={x: X_batch, y: Y_batch, mask: np.where(Y_batch == 0.0,0.0,1.0)})\n",
    "       \n",
    "    _ = sess.run(optimizer, feed_dict={x: X_train, y: Y_train, mask: np.where(Y_train == 0.0,0.0,1.0)})\n",
    "    c_train = sess.run(loss_op, feed_dict={x: X_train, y: Y_train, mask: np.where(Y_train == 0.0,0.0,1.0)})\n",
    "    c_test  = sess.run(loss_op, feed_dict={x: X_test,  y: Y_test,  mask: np.where(Y_test == 0.0,0.0,1.0)})\n",
    "    res_train.append(c_train/c_train_0)\n",
    "    res_test.append(c_test/c_test_0)\n",
    "    \n",
    "    display.clear_output(wait=True)\n",
    "    mp.figure()    \n",
    "    #mp.clf()\n",
    "    mp.semilogy(res_train,label=\"train\")\n",
    "    mp.semilogy(res_test,label=\"test\")\n",
    "    mp.legend()\n",
    "    title = \"Loss at epoch \" + '%04d' % epoch + \" train={:.4f}\".format(c_train/c_train_0) + \" test={:.4f}\".format(c_test/c_test_0)\n",
    "    mp.title(title)\n",
    "    mp.show()\n",
    "end = time.time()\n",
    "print(\"Training time: {:.4f}s\".format(end-start))"
   ]
  },
  {
   "cell_type": "markdown",
   "metadata": {},
   "source": [
    "## Visualize training fit"
   ]
  },
  {
   "cell_type": "code",
   "execution_count": null,
   "metadata": {},
   "outputs": [],
   "source": [
    "prediction = sess.run(pred, feed_dict={x: X_train, mask: np.where(Y_train==0.0,0.0,1.0)})\n",
    "mp.plot(np.hstack((X_train[0:5,:,0],Y_train[0:5,:])).T,label=\"True\")\n",
    "mp.plot(np.hstack((X_train[0:5,:,0],prediction[0:5,:])).T,label=\"Prediction\")\n",
    "mp.xlabel(\"Time\")\n",
    "mp.ylabel(\"Signal\")\n",
    "\n",
    "mp.legend()"
   ]
  },
  {
   "cell_type": "markdown",
   "metadata": {},
   "source": [
    "## Visualize test fit"
   ]
  },
  {
   "cell_type": "code",
   "execution_count": null,
   "metadata": {},
   "outputs": [],
   "source": [
    "prediction = sess.run(pred, feed_dict={x: X_test, mask: np.where(Y_test==0.0,0.0,1.0)})\n",
    "mp.plot(np.hstack((X_test[:,:,0],Y_test[:,:])).T,label=\"True\")\n",
    "mp.plot(np.hstack((X_test[:,:,0],prediction[:,:])).T,label=\"Prediction\")\n",
    "mp.xlabel(\"Time\")\n",
    "mp.ylabel(\"Signal\")\n",
    "mp.legend()"
   ]
  }
 ],
 "metadata": {
  "kernelspec": {
   "display_name": "Python 3",
   "language": "python",
   "name": "python3"
  },
  "language_info": {
   "codemirror_mode": {
    "name": "ipython",
    "version": 3
   },
   "file_extension": ".py",
   "mimetype": "text/x-python",
   "name": "python",
   "nbconvert_exporter": "python",
   "pygments_lexer": "ipython3",
   "version": "3.7.3"
  }
 },
 "nbformat": 4,
 "nbformat_minor": 4
}
