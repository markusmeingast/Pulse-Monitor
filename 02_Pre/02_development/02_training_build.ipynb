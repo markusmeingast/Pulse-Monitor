{
 "cells": [
  {
   "cell_type": "code",
   "execution_count": 1,
   "metadata": {},
   "outputs": [],
   "source": [
    "import pandas as pd\n",
    "import numpy as np\n",
    "import matplotlib.pyplot as mp\n",
    "import sys, os, glob"
   ]
  },
  {
   "cell_type": "markdown",
   "metadata": {},
   "source": [
    "Get list of available samples"
   ]
  },
  {
   "cell_type": "code",
   "execution_count": 2,
   "metadata": {},
   "outputs": [],
   "source": [
    "sample_names = sorted(glob.glob(\"../03_samples/*/*.csv\"))"
   ]
  },
  {
   "cell_type": "markdown",
   "metadata": {},
   "source": [
    "Define testing set name"
   ]
  },
  {
   "cell_type": "code",
   "execution_count": 3,
   "metadata": {},
   "outputs": [],
   "source": [
    "testing = '20190717-122651'"
   ]
  },
  {
   "cell_type": "markdown",
   "metadata": {},
   "source": [
    "Determine samples that are successive (target last 3 to predict next)"
   ]
  },
  {
   "cell_type": "code",
   "execution_count": 4,
   "metadata": {},
   "outputs": [],
   "source": [
    "idx_train = []\n",
    "for i in range(0,len(sample_names)-3):\n",
    "    date_name1 = sample_names[i+0][-24:-9]\n",
    "    date_name2 = sample_names[i+1][-24:-9]\n",
    "    date_name3 = sample_names[i+2][-24:-9]\n",
    "    date_name4 = sample_names[i+3][-24:-9]\n",
    "    if date_name1 == date_name2 and date_name2 == date_name3 and date_name3 == date_name4 and date_name1 != testing:\n",
    "        sample_num1 = int(sample_names[i+0][-8:-4])\n",
    "        sample_num2 = int(sample_names[i+1][-8:-4])\n",
    "        sample_num3 = int(sample_names[i+2][-8:-4])\n",
    "        sample_num4 = int(sample_names[i+3][-8:-4])\n",
    "        if sample_num1+1 == sample_num2 and sample_num2+1 == sample_num3 and sample_num3+1 == sample_num4:\n",
    "            idx_train.append(i)\n",
    "            \n",
    "idx_test = []\n",
    "for i in range(0,len(sample_names)-3):\n",
    "    date_name1 = sample_names[i+0][-24:-9]\n",
    "    date_name2 = sample_names[i+1][-24:-9]\n",
    "    date_name3 = sample_names[i+2][-24:-9]\n",
    "    date_name4 = sample_names[i+3][-24:-9]\n",
    "    if date_name1 == date_name2 and date_name2 == date_name3 and date_name3 == date_name4 and date_name1 == testing:\n",
    "        sample_num1 = int(sample_names[i+0][-8:-4])\n",
    "        sample_num2 = int(sample_names[i+1][-8:-4])\n",
    "        sample_num3 = int(sample_names[i+2][-8:-4])\n",
    "        sample_num4 = int(sample_names[i+3][-8:-4])\n",
    "        if sample_num1+1 == sample_num2 and sample_num2+1 == sample_num3 and sample_num3+1 == sample_num4:\n",
    "            idx_test.append(i)    "
   ]
  },
  {
   "cell_type": "markdown",
   "metadata": {},
   "source": [
    "global parameters"
   ]
  },
  {
   "cell_type": "code",
   "execution_count": 5,
   "metadata": {},
   "outputs": [],
   "source": [
    "n_samples_max = 350\n",
    "train_batch_size = len(idx_train)\n",
    "test_batch_size = len(idx_test)"
   ]
  },
  {
   "cell_type": "markdown",
   "metadata": {},
   "source": [
    "Init empty array for features and target"
   ]
  },
  {
   "cell_type": "code",
   "execution_count": 6,
   "metadata": {},
   "outputs": [],
   "source": [
    "X_train = np.zeros((3*n_samples_max,train_batch_size),dtype=int)\n",
    "Y_train = np.zeros((n_samples_max,train_batch_size),dtype=int)\n",
    "X_test = np.zeros((3*n_samples_max,test_batch_size),dtype=int)\n",
    "Y_test = np.zeros((n_samples_max,test_batch_size),dtype=int)"
   ]
  },
  {
   "cell_type": "markdown",
   "metadata": {},
   "source": [
    "Fill arrays with data"
   ]
  },
  {
   "cell_type": "code",
   "execution_count": 7,
   "metadata": {},
   "outputs": [],
   "source": [
    "len_X_train = 0\n",
    "len_Y_train = 0\n",
    "len_X_test = 0\n",
    "len_Y_test = 0\n",
    "for i in range(0,len(idx_train)):\n",
    "    sample1 = pd.read_csv(sample_names[idx_train[i]+0],header=None,usecols=[1]).values.T[0]\n",
    "    sample2 = pd.read_csv(sample_names[idx_train[i]+1],header=None,usecols=[1]).values.T[0]\n",
    "    sample3 = pd.read_csv(sample_names[idx_train[i]+2],header=None,usecols=[1]).values.T[0]\n",
    "    sample4 = pd.read_csv(sample_names[idx_train[i]+3],header=None,usecols=[1]).values.T[0]\n",
    "    X_train[0:len(sample1),i] = sample1\n",
    "    X_train[len(sample1):len(sample1)+len(sample2),i] = sample2\n",
    "    X_train[len(sample1)+len(sample2):len(sample1)+len(sample2)+len(sample3),i] = sample3\n",
    "    len_X_train = max(len_X_train,len(sample1)+len(sample2)+len(sample3))\n",
    "    Y_train[0:len(sample4),i] = sample4\n",
    "    len_Y_train = max(len_Y_train,len(sample4))\n",
    "    \n",
    "for i in range(0,len(idx_test)):\n",
    "    sample1 = pd.read_csv(sample_names[idx_test[i]+0],header=None,usecols=[1]).values.T[0]\n",
    "    sample2 = pd.read_csv(sample_names[idx_test[i]+1],header=None,usecols=[1]).values.T[0]\n",
    "    sample3 = pd.read_csv(sample_names[idx_test[i]+2],header=None,usecols=[1]).values.T[0]\n",
    "    sample4 = pd.read_csv(sample_names[idx_test[i]+3],header=None,usecols=[1]).values.T[0]\n",
    "    X_test[0:len(sample1),i] = sample1\n",
    "    X_test[len(sample1):len(sample1)+len(sample2),i] = sample2\n",
    "    X_test[len(sample1)+len(sample2):len(sample1)+len(sample2)+len(sample3),i] = sample3\n",
    "    len_X_test = max(len_X_test,len(sample1)+len(sample2)+len(sample3))\n",
    "    Y_test[0:len(sample4),i] = sample4\n",
    "    len_Y_test = max(len_Y_test,len(sample4))"
   ]
  },
  {
   "cell_type": "markdown",
   "metadata": {},
   "source": [
    "Take sample length from both training and testing sets for both"
   ]
  },
  {
   "cell_type": "code",
   "execution_count": 8,
   "metadata": {},
   "outputs": [],
   "source": [
    "len_X = max(len_X_test,len_X_train)\n",
    "len_Y = max(len_Y_test,len_Y_train)"
   ]
  },
  {
   "cell_type": "markdown",
   "metadata": {},
   "source": [
    "Save arrays to csv"
   ]
  },
  {
   "cell_type": "code",
   "execution_count": 9,
   "metadata": {},
   "outputs": [],
   "source": [
    "np.savetxt('X_train.csv', X_train[0:len_X,:], delimiter=',',fmt='%d')\n",
    "np.savetxt('Y_train.csv', Y_train[0:len_Y,:], delimiter=',',fmt='%d')\n",
    "np.savetxt('X_test.csv', X_test[0:len_X,:], delimiter=',',fmt='%d')\n",
    "np.savetxt('Y_test.csv', Y_test[0:len_Y,:], delimiter=',',fmt='%d')"
   ]
  }
 ],
 "metadata": {
  "kernelspec": {
   "display_name": "Python 3",
   "language": "python",
   "name": "python3"
  },
  "language_info": {
   "codemirror_mode": {
    "name": "ipython",
    "version": 3
   },
   "file_extension": ".py",
   "mimetype": "text/x-python",
   "name": "python",
   "nbconvert_exporter": "python",
   "pygments_lexer": "ipython3",
   "version": "3.7.3"
  }
 },
 "nbformat": 4,
 "nbformat_minor": 4
}
